{
 "cells": [
  {
   "cell_type": "code",
   "execution_count": null,
   "metadata": {},
   "outputs": [],
   "source": [
    "import tensorflow as tf\n",
    "import numpy as np\n",
    "import zipfile\n",
    "import pandas as pd\n",
    "import os\n",
    "from pathlib import Path"
   ]
  },
  {
   "cell_type": "code",
   "execution_count": null,
   "metadata": {},
   "outputs": [],
   "source": [
    "data_zip = \"/content/drive/MyDrive/🌍PUBLIC SHARED/archive.zip\" \n",
    "output= \"data\"\n",
    "with zipfile.ZipFile(data_zip,\"r\") as zip_ref:\n",
    "    zip_ref.extractall(output)\n",
    "\n",
    "#run on graphic card if possible\n",
    "gpus = tf.config.list_physical_devices('GPU')\n",
    "print(\"nb gpus\", len(gpus))\n",
    "if gpus:\n",
    "  # Restrict TensorFlow to only use the first GPU\n",
    "  try:\n",
    "    tf.config.set_visible_devices(gpus[0], 'GPU')\n",
    "    logical_gpus = tf.config.list_logical_devices('GPU')\n",
    "    print(len(gpus), \"Physical GPUs,\", len(logical_gpus), \"Logical GPU\")\n",
    "  except RuntimeError as e:\n",
    "    # Visible devices must be set before GPUs have been initialized\n",
    "    print(e)"
   ]
  },
  {
   "cell_type": "code",
   "execution_count": null,
   "metadata": {},
   "outputs": [],
   "source": [
    "def convert_img_to_df(dataset):\n",
    "  img_dir = Path(dataset)\n",
    "  filename = list(img_dir.glob(r'**/*.jpg'))\n",
    "  label = list(map(lambda x:os.path.split(os.path.split(x)[0])[1],filename))\n",
    "\n",
    "  filename = pd.Series(filename,name='Filepath').astype(str)\n",
    "  label = pd.Series(label,name='Label')\n",
    "  img_df = pd.concat([filename,label],axis=1)\n",
    "  return img_df"
   ]
  },
  {
   "cell_type": "code",
   "execution_count": null,
   "metadata": {},
   "outputs": [],
   "source": [
    "df = convert_img_to_df(output)\n",
    "print(df.head())"
   ]
  },
  {
   "cell_type": "code",
   "execution_count": null,
   "metadata": {},
   "outputs": [],
   "source": [
    "\n",
    "#suffle the data set\n",
    "df = df.sample(frac=1)\n",
    "\n",
    "#get train and test set (0.8, 0.2)\n",
    "train_size = int(len(df)*0.8)\n",
    "\n",
    "train_set = df.iloc[:train_size]\n",
    "test_set = df.iloc[train_size:]\n",
    "\n",
    "train_df = pd.DataFrame(train_set)\n",
    "test_df = pd.DataFrame(test_set)\n",
    "\n",
    "# process data as image\n",
    "datagen = ImageDataGenerator(rescale=1./255,\n",
    "                             width_shift_range=0.15,\n",
    "                             height_shift_range=0.15,\n",
    "                             horizontal_flip=True,\n",
    "                             vertical_flip=True)\n",
    "\n",
    "target_image_size = (224,224)\n",
    "\n",
    "\n",
    "train_set = datagen.flow_from_dataframe(dataframe=train_df,\n",
    "                                        x_col='Filepath',\n",
    "                                        y_col='Label',\n",
    "                                        batch_size=32,\n",
    "                                        target_size=target_image_size,\n",
    "                                        shuffle=True,\n",
    "                                        seed=42,\n",
    "                                        class_mode='categorical'\n",
    "                                        )\n",
    "\n",
    "train_set = datagen.flow_from_dataframe(dataframe=test_df,\n",
    "                                        x_col='Filepath',\n",
    "                                        y_col='Label',\n",
    "                                        batch_size=32,\n",
    "                                        target_size=target_image_size,\n",
    "                                        shuffle=True,\n",
    "                                        seed=42,\n",
    "                                        class_mode='categorical'\n",
    "                                        )\n",
    "\n",
    "\n",
    "# get x_train and y_train from train_set\n",
    "x_train, y_train = next(train_set)\n"
   ]
  },
  {
   "cell_type": "code",
   "execution_count": null,
   "metadata": {},
   "outputs": [],
   "source": [
    "checkpoint = ModelCheckpoint(\"best_model_epoch.hdf5\", monitor='val_accuracy', verbose=1, save_best_only=True, mode='max')\n",
    "callbacks_list = [checkpoint]\n",
    "\n",
    "model.compile(loss='categorical_crossentropy',optimizer='adam',metrics=['accuracy'])\n",
    "history = model.fit(train_set,\n",
    "                    validation_data=test_set,\n",
    "                    validation_steps=len(test_set),\n",
    "                    epochs=15,\n",
    "                    callbacks=callbacks_list,\n",
    "                    verbose=1)"
   ]
  },
  {
   "cell_type": "code",
   "execution_count": null,
   "metadata": {},
   "outputs": [],
   "source": [
    "#save\n",
    "model.save(\"model.ckpt\")\n",
    "#zip it\n",
    "!zip -r /content/model.zip /content/model.ckpt"
   ]
  },
  {
   "cell_type": "code",
   "execution_count": null,
   "metadata": {},
   "outputs": [],
   "source": [
    "#import model from hdf5 file\n",
    "from keras.models import load_model\n",
    "model = load_model('best_model_epoch.hdf5')\n",
    "\n",
    "predictions = model.predict(test_set, verbose=1)\n",
    "# print accuracy on test set\n",
    "acc  = model.evaluate(test_set, verbose=1)\n",
    "print(\"Accuracy on test set is: \", acc)\n",
    "\n",
    "#pick a random image from test set and see the prediction\n",
    "import random\n",
    "\n",
    "n = random.randint(0, len(test_set)-1)\n",
    "img = test_set[n][0]\n",
    "plt.imshow(img[0])\n",
    "plt.show()\n",
    "\n",
    "print(\"The prediction for this image is: \", np.argmax(predictions[n]))\n",
    "\n"
   ]
  }
 ],
 "metadata": {
  "kernelspec": {
   "display_name": "Python 3",
   "language": "python",
   "name": "python3"
  },
  "language_info": {
   "codemirror_mode": {
    "name": "ipython",
    "version": 3
   },
   "file_extension": ".py",
   "mimetype": "text/x-python",
   "name": "python",
   "nbconvert_exporter": "python",
   "pygments_lexer": "ipython3",
   "version": "3.10.3"
  }
 },
 "nbformat": 4,
 "nbformat_minor": 2
}

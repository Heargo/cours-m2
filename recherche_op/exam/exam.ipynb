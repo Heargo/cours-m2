{
 "cells": [
  {
   "cell_type": "code",
   "execution_count": 1,
   "metadata": {},
   "outputs": [],
   "source": [
    "from Graph import Graph\n",
    "from GraphDijkstra import GraphDijkstra\n",
    "import numpy as np\n",
    "from random import randint\n",
    "from time import time\n",
    "from parserCities import get_matrice_from_file, get_cities_positions_from_file"
   ]
  },
  {
   "cell_type": "code",
   "execution_count": 2,
   "metadata": {},
   "outputs": [
    {
     "name": "stdout",
     "output_type": "stream",
     "text": [
      "new_start 1\n",
      "new_start 3\n",
      "new_start 4\n",
      "new_start 6\n",
      "new_start 5\n",
      "new_start None\n",
      "0    | 1    | 2    | 3    | 5    | 4    | 6   \n",
      "-    | 2(0) | 6(0) | inf  | inf  | inf  | inf \n",
      "inf  | -    | inf  | 7(1) | inf  | inf  | inf \n",
      "inf  | inf  | inf  | -    | 22(3) | 17(3) | inf \n",
      "inf  | inf  | inf  | inf  | 22(3) | -    | 19(4)\n",
      "inf  | inf  | inf  | inf  | 22(3) | inf  | -   \n",
      "inf  | inf  | inf  | inf  | -    | inf  | inf \n"
     ]
    }
   ],
   "source": [
    "g = GraphDijkstra(\"./test.txt\")\n",
    "rows = g.dijkstra_table(start=0) #! replace the start by the start label !"
   ]
  }
 ],
 "metadata": {
  "kernelspec": {
   "display_name": "Python 3",
   "language": "python",
   "name": "python3"
  },
  "language_info": {
   "codemirror_mode": {
    "name": "ipython",
    "version": 3
   },
   "file_extension": ".py",
   "mimetype": "text/x-python",
   "name": "python",
   "nbconvert_exporter": "python",
   "pygments_lexer": "ipython3",
   "version": "3.10.3"
  }
 },
 "nbformat": 4,
 "nbformat_minor": 2
}

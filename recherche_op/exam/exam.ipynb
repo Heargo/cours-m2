{
 "cells": [
  {
   "cell_type": "code",
   "execution_count": 1,
   "metadata": {},
   "outputs": [],
   "source": [
    "from Graph import Graph\n",
    "from GraphDijkstra import GraphDijkstra\n",
    "import numpy as np\n",
    "from random import randint\n",
    "from time import time\n",
    "from parserCities import get_matrice_from_file, get_cities_positions_from_file\n",
    "import math"
   ]
  },
  {
   "cell_type": "markdown",
   "metadata": {},
   "source": [
    "# Exo 1"
   ]
  },
  {
   "cell_type": "code",
   "execution_count": 2,
   "metadata": {},
   "outputs": [
    {
     "name": "stdout",
     "output_type": "stream",
     "text": [
      "s    | a    | b    | c    | d   \n",
      "-    | 8(s) | inf  | inf  | 2(s)\n",
      "inf  | 7(d) | inf  | 4(d) | -   \n",
      "inf  | 5(c) | 7(c) | -    | inf \n",
      "inf  | -    | 7(c) | inf  | inf \n",
      "inf  | inf  | -    | inf  | inf \n",
      "Combien l’algorithme fait-il d’opérations sur ce graphe ? \n",
      " (nb sommets + nb arcs) x log(nb sommets) = (5+7) x log(5) = 19.313254949209202 \n"
     ]
    }
   ],
   "source": [
    "#charger le graph dijkstra\n",
    "# le contenu du fichier graph.txt est de ce style :\n",
    "# node1-poid-node2 // relation dans les deux sens\n",
    "# node2-poid->node1 // sens de la relation\n",
    "g = GraphDijkstra(\"./graph.txt\")\n",
    "rows = g.dijkstra_table(start=\"s\") #! replace the start by the start label !\n",
    "n_arc = g.get_nb_arcs()\n",
    "n_sommet = g.get_nb_sommets()\n",
    "print(f\"Combien l’algorithme fait-il d’opérations sur ce graphe ? \\n (nb sommets + nb arcs) x log(nb sommets) = ({n_sommet}+{n_arc}) x log({n_sommet}) = {(n_sommet + n_arc) * math.log(n_sommet) } \")"
   ]
  },
  {
   "cell_type": "code",
   "execution_count": 3,
   "metadata": {},
   "outputs": [
    {
     "name": "stdout",
     "output_type": "stream",
     "text": [
      "ATTENTION: ordre des sommets : ['s', 'a', 'b', 'c', 'd']\n",
      "\n",
      "Initialisation des deux matrices :\n",
      "w = [[ 0.  8. inf inf  2.]\n",
      " [ 8.  0.  3.  1.  5.]\n",
      " [inf  3.  0.  3. inf]\n",
      " [inf  1.  3.  0.  2.]\n",
      " [ 2.  5. inf  2.  0.]]\n",
      "\n",
      " p = [[0. 1. 0. 0. 4.]\n",
      " [0. 0. 2. 3. 4.]\n",
      " [0. 1. 0. 3. 0.]\n",
      " [0. 1. 2. 0. 4.]\n",
      " [0. 1. 0. 3. 0.]]\n",
      "\n",
      "\n",
      "\n",
      "Résultat final :\n",
      "w = [[0. 5. 7. 4. 2.]\n",
      " [5. 0. 3. 1. 3.]\n",
      " [7. 3. 0. 3. 5.]\n",
      " [4. 1. 3. 0. 2.]\n",
      " [2. 3. 5. 2. 0.]]\n",
      "\n",
      " p = [[0. 4. 4. 4. 4.]\n",
      " [4. 0. 2. 3. 3.]\n",
      " [4. 1. 0. 3. 3.]\n",
      " [4. 1. 2. 0. 4.]\n",
      " [0. 3. 3. 3. 0.]]\n"
     ]
    }
   ],
   "source": [
    "# floyd\n",
    "s_order = [s.label for s in g.sommets]\n",
    "print(f\"ATTENTION: ordre des sommets : {s_order}\")\n",
    "\n",
    "w, p = g.floyd()\n",
    "\n",
    "print(f\"\\nRésultat final :\\nw = {w}\\n\\n p = {p}\")"
   ]
  },
  {
   "cell_type": "markdown",
   "metadata": {},
   "source": [
    "**Pourquoi l’algorithme de Dijkstra ne marche pas si le poids de l’arête du\n",
    "sommet « a » au sommet « c » vaut -1 ? Est-ce que l’algorithme Floyd\n",
    "marche avec ce poids ?**\n",
    "\n",
    "L'algorithme de Dijkstra ne fonctionne pas avec des arêtes de poids négatif car il suppose que les distances les plus courtes sont non négatives. En revanche, l'algorithme de Floyd-Warshall peut gérer les poids d'arêtes négatifs, bien que sa complexité en temps puisse être élevée dans certains cas."
   ]
  },
  {
   "cell_type": "markdown",
   "metadata": {},
   "source": [
    "# Exo 2\n",
    "\n",
    "**Q1 Le plus grand sous-graphe est-il un K3 ? un K4 ? ou un K5 ? Justifier.**\n",
    "Sous graphe complet est un ensemble de sommets du graph ou tout les sommets sont relié entre eux. K2 = 2 sommets reliés entre eux, K3 = 3 sommets reliés entre eux etc... Il faut regarder le graphe.\n",
    "\n",
    "**Q2 Donner le nombre de sous-graphes K3 de ce graphe, le nombre de sous-graphes K4 de ce graphe et le nombre de sous-graphes K5 de ce graphe.**\n",
    "\n",
    "Pareil regarder le graphe.\n",
    "\n",
    "**Q3 En général si le graphe contient n sommets combien a-t-on au maximum de sous-graphes K3, de sous-graphes K4 et plus généralement de sous-graphes Km pour m<n+1 ? Pour quels graphes va-t-on atteindre ce maximum ?**\n",
    "\n",
    "$$ \\begin{pmatrix}\n",
    "n \\\\\n",
    "m\n",
    "\\end{pmatrix} = \\frac{n!}{m! (n - m)!} $$\n",
    "\n",
    "On attendra le maximum si le graph est complet."
   ]
  },
  {
   "cell_type": "code",
   "execution_count": 4,
   "metadata": {},
   "outputs": [
    {
     "name": "stdout",
     "output_type": "stream",
     "text": [
      "Combien de K3 peut-on trouver dans ce graphe ? 35.0 \n"
     ]
    }
   ],
   "source": [
    "n = 7\n",
    "m = 3 # valeur de K donc ici on cherche K3\n",
    "\n",
    "maxi = math.factorial(n) / (math.factorial(m) * math.factorial(n-m))\n",
    "\n",
    "print(f\"Combien de K{m} peut-on trouver dans ce graphe ? {maxi} \")"
   ]
  },
  {
   "cell_type": "code",
   "execution_count": 5,
   "metadata": {},
   "outputs": [
    {
     "name": "stdout",
     "output_type": "stream",
     "text": [
      "Quelle est la densité de ce graphe ? 0.7142857142857143\n",
      "Si 0 alors le graphe n'a pas d'arrète (noeuds isolés), si 1 alors le graphe est complet\n"
     ]
    }
   ],
   "source": [
    "#densité d’un graphe\n",
    "e = 15 # arretes (edges)\n",
    "v = 7  # sommets (vertex)\n",
    "\n",
    "print(f\"Quelle est la densité de ce graphe ? {(2*e)/(v*(v-1))}\")\n",
    "print(\"Si 0 alors le graphe n'a pas d'arrète (noeuds isolés), si 1 alors le graphe est complet\")"
   ]
  },
  {
   "cell_type": "markdown",
   "metadata": {},
   "source": [
    "**Est-ce que la densité des sous-graphes du graphe que l’on étudie permet de trouver les sous-graphes complets ?**\n",
    "\n",
    "Oui, on calcule la densité sur tout les sous graphes possibles pour voir si c'est égale à 1."
   ]
  },
  {
   "cell_type": "markdown",
   "metadata": {},
   "source": [
    "# Exo 3\n",
    "\n",
    "On travaille sur un graphe non orienté avec une seule composante connexe qui\n",
    "contient 6 sommets. On sait que les degrés de 5 des sommets sont respectivement\n",
    "1, 2, 3, 4 et 5. Quel est le degré du sixième sommet ? Justifier.\n",
    "\n",
    "*demerdez vous, dessinez le graph en partant des sommets de degré le plus élevé (5, puis 4 etc..)*"
   ]
  },
  {
   "cell_type": "markdown",
   "metadata": {},
   "source": [
    "# Exo 4"
   ]
  },
  {
   "cell_type": "code",
   "execution_count": 6,
   "metadata": {},
   "outputs": [
    {
     "name": "stdout",
     "output_type": "stream",
     "text": [
      "Optimal Solution: [300. 200. 100.]\n",
      "Optimal Objective Value: -2300.0\n"
     ]
    },
    {
     "name": "stderr",
     "output_type": "stream",
     "text": [
      "C:\\Users\\hrey2\\AppData\\Local\\Temp\\ipykernel_14796\\3001761302.py:19: RuntimeWarning: divide by zero encountered in divide\n",
      "  ratios = tableau[:-1, -1] / tableau[:-1, entering_var]\n"
     ]
    }
   ],
   "source": [
    "import numpy as np\n",
    "\n",
    "\n",
    "def simplex_algorithm(c, A, b):\n",
    "    m, n = A.shape\n",
    "    tableau = np.zeros((m + 1, n + m + 1))\n",
    "\n",
    "    # Initialize tableau\n",
    "    tableau[:-1, :n] = A\n",
    "    tableau[:-1, -1] = b\n",
    "    tableau[-1, :n] = -c\n",
    "    tableau[-1, -1] = 0\n",
    "\n",
    "    while any(tableau[-1, :n] < 0):\n",
    "        # Choose entering variable (column k with the most negative coefficient)\n",
    "        entering_var = np.argmin(tableau[-1, :n])\n",
    "\n",
    "        # Choose leaving variable (row l with the minimum ratio b[i]/A[i, k] where A[i, k] > 0)\n",
    "        ratios = tableau[:-1, -1] / tableau[:-1, entering_var]\n",
    "        leaving_var = np.argmin(ratios)\n",
    "\n",
    "        # Update the tableau\n",
    "        pivot = tableau[leaving_var, entering_var]\n",
    "        tableau[leaving_var, :] /= pivot\n",
    "        for i in range(m + 1):\n",
    "            if i != leaving_var:\n",
    "                tableau[i, :] -= tableau[i, entering_var] * \\\n",
    "                    tableau[leaving_var, :]\n",
    "\n",
    "    # Extract optimal solution and objective value\n",
    "    solution = tableau[:-1, -1]\n",
    "    objective_value = -tableau[-1, -1]\n",
    "\n",
    "    return solution, objective_value\n",
    "\n",
    "\n",
    "# Test the implementation with the provided example\n",
    "\n",
    "c = np.array([4, 5, 0, 0, 0, 0])\n",
    "A = np.array([[1, 2, 1, 0, 0, 0],\n",
    "              [2, 1, 0, 1, 0, 0],\n",
    "              [1, 0, 0, 0, 1, 0]])\n",
    "b = np.array([800, 700, 300])\n",
    "\n",
    "solution, objective_value = simplex_algorithm(c, A, b)\n",
    "\n",
    "print(\"Optimal Solution:\", solution)\n",
    "print(\"Optimal Objective Value:\", objective_value)"
   ]
  },
  {
   "cell_type": "code",
   "execution_count": 7,
   "metadata": {},
   "outputs": [
    {
     "name": "stdout",
     "output_type": "stream",
     "text": [
      "flow = 12.0\n",
      "mat =\n",
      " [[0. 0. 2. 0. 0. 0.]\n",
      " [6. 0. 0. 0. 3. 0.]\n",
      " [6. 0. 0. 0. 0. 0.]\n",
      " [0. 3. 3. 0. 0. 0.]\n",
      " [0. 3. 3. 0. 0. 2.]\n",
      " [0. 0. 0. 6. 6. 0.]]\n"
     ]
    }
   ],
   "source": [
    "# flo si jamais ça tombe\n",
    "g_flow = GraphDijkstra(\"./flo.txt\")\n",
    "flow, mat = g_flow.getFlow()\n",
    "\n",
    "print(f\"flow = {flow}\\nmat =\\n {mat}\")"
   ]
  }
 ],
 "metadata": {
  "kernelspec": {
   "display_name": "Python 3",
   "language": "python",
   "name": "python3"
  },
  "language_info": {
   "codemirror_mode": {
    "name": "ipython",
    "version": 3
   },
   "file_extension": ".py",
   "mimetype": "text/x-python",
   "name": "python",
   "nbconvert_exporter": "python",
   "pygments_lexer": "ipython3",
   "version": "3.10.3"
  }
 },
 "nbformat": 4,
 "nbformat_minor": 2
}

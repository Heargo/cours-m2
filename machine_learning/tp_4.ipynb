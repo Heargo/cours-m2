{
  "cells": [
    {
      "cell_type": "markdown",
      "metadata": {
        "id": "cXq1_sityide"
      },
      "source": [
        "# Dataset CIFAR-10"
      ]
    },
    {
      "cell_type": "code",
      "execution_count": 113,
      "metadata": {
        "id": "i8HeCtQryf1e"
      },
      "outputs": [],
      "source": [
        "import tensorflow as tf\n",
        "(x_train, y_train), (x_test, y_test) = tf.keras.datasets.cifar10.load_data()\n"
      ]
    },
    {
      "cell_type": "code",
      "execution_count": 89,
      "metadata": {
        "colab": {
          "base_uri": "https://localhost:8080/"
        },
        "id": "LzCo2FIzy7Yy",
        "outputId": "3200744f-dee0-44fc-b6c9-da417b9277a6"
      },
      "outputs": [
        {
          "name": "stdout",
          "output_type": "stream",
          "text": [
            "nb gpus 1\n",
            "1 Physical GPUs, 1 Logical GPU\n"
          ]
        }
      ],
      "source": [
        "#run on graphic card if possible\n",
        "gpus = tf.config.list_physical_devices('GPU')\n",
        "print(\"nb gpus\", len(gpus))\n",
        "if gpus:\n",
        "  # Restrict TensorFlow to only use the first GPU\n",
        "  try:\n",
        "    tf.config.set_visible_devices(gpus[0], 'GPU')\n",
        "    logical_gpus = tf.config.list_logical_devices('GPU')\n",
        "    print(len(gpus), \"Physical GPUs,\", len(logical_gpus), \"Logical GPU\")\n",
        "  except RuntimeError as e:\n",
        "    # Visible devices must be set before GPUs have been initialized\n",
        "    print(e)"
      ]
    },
    {
      "cell_type": "code",
      "execution_count": 114,
      "metadata": {
        "colab": {
          "base_uri": "https://localhost:8080/"
        },
        "id": "TZ9UkOjOyvVa",
        "outputId": "90b69527-2460-41c8-943b-42153ea69649"
      },
      "outputs": [
        {
          "name": "stdout",
          "output_type": "stream",
          "text": [
            "x shape (50000, 32, 32, 3)\n",
            "y shape (50000, 1)\n"
          ]
        }
      ],
      "source": [
        "# Explorez le dataset\n",
        "print(\"x shape\",x_train.shape)\n",
        "print(\"y shape\",y_train.shape)"
      ]
    },
    {
      "cell_type": "code",
      "execution_count": 115,
      "metadata": {
        "id": "hX-3Y1GD0IU4"
      },
      "outputs": [],
      "source": [
        "# Normalize data\n",
        "x_train = x_train.astype('float32') / 255\n",
        "x_test = x_test.astype('float32') / 255\n",
        "\n",
        "# One hot encoding\n",
        "y_train = tf.keras.utils.to_categorical(y_train, 10)\n",
        "y_test = tf.keras.utils.to_categorical(y_test, 10)"
      ]
    },
    {
      "cell_type": "code",
      "execution_count": 34,
      "metadata": {
        "id": "-9ibOjGL0k__"
      },
      "outputs": [],
      "source": [
        "model = tf.keras.models.Sequential()\n",
        "model.add(tf.keras.layers.Flatten(input_shape=(32, 32, 3)))\n",
        "model.add(tf.keras.layers.Dense(512, activation='relu'))\n",
        "model.add(tf.keras.layers.Dense(10, activation='relu'))\n",
        "\n"
      ]
    },
    {
      "cell_type": "code",
      "execution_count": null,
      "metadata": {
        "id": "xVe-IsPu0rlh"
      },
      "outputs": [],
      "source": [
        "model.compile(optimizer='adam',\n",
        "              loss='categorical_crossentropy',\n",
        "              metrics=['accuracy'])\n",
        "model.fit(x_train, y_train, epochs=20, batch_size=32, validation_data=(x_test, y_test))"
      ]
    },
    {
      "cell_type": "code",
      "execution_count": 116,
      "metadata": {
        "id": "Urb9_EKr2sxf"
      },
      "outputs": [],
      "source": [
        "model_cnn = tf.keras.models.Sequential()\n",
        "# first convolution layer (batch norm ==> conv 3x3 ==> max pool 2x2)\n",
        "model_cnn.add(tf.keras.layers.BatchNormalization())\n",
        "model_cnn.add(tf.keras.layers.Conv2D(32, (3, 3), activation='relu', input_shape=(32, 32, 3)))\n",
        "model_cnn.add(tf.keras.layers.Dropout(0.05))\n",
        "model_cnn.add(tf.keras.layers.MaxPooling2D((2, 2)))\n",
        "# add a second convolutional layer (same)\n",
        "model_cnn.add(tf.keras.layers.BatchNormalization())\n",
        "model_cnn.add(tf.keras.layers.Conv2D(64, (3, 3), activation='relu'))\n",
        "model_cnn.add(tf.keras.layers.Dropout(0.05))\n",
        "model_cnn.add(tf.keras.layers.MaxPooling2D((2, 2)))\n",
        "# add classifier\n",
        "model_cnn.add(tf.keras.layers.BatchNormalization())\n",
        "model_cnn.add(tf.keras.layers.Flatten())\n",
        "model_cnn.add(tf.keras.layers.Dropout(0.5))\n",
        "model_cnn.add(tf.keras.layers.Dense(64, activation='relu'))\n",
        "model_cnn.add(tf.keras.layers.BatchNormalization())\n",
        "model_cnn.add(tf.keras.layers.Dropout(0.1))\n",
        "model_cnn.add(tf.keras.layers.Dense(10, activation='softmax'))\n",
        "\n",
        "model_cnn.compile(optimizer='adam',\n",
        "              loss='categorical_crossentropy',\n",
        "              metrics=['accuracy'])\n"
      ]
    },
    {
      "cell_type": "code",
      "execution_count": 117,
      "metadata": {
        "colab": {
          "base_uri": "https://localhost:8080/"
        },
        "id": "2iDcyYFT3FRY",
        "outputId": "7df60d22-b2d7-4355-a103-0d4849cbb5b7"
      },
      "outputs": [
        {
          "name": "stdout",
          "output_type": "stream",
          "text": [
            "Epoch 1/13\n",
            "3125/3125 [==============================] - ETA: 0s - loss: 1.4431 - accuracy: 0.4916\n",
            "Epoch 1: val_accuracy improved from -inf to 0.60860, saving model to best_model_epoch.hdf5\n",
            "3125/3125 [==============================] - 25s 7ms/step - loss: 1.4431 - accuracy: 0.4916 - val_loss: 1.1231 - val_accuracy: 0.6086\n",
            "Epoch 2/13\n",
            "  17/3125 [..............................] - ETA: 20s - loss: 1.2836 - accuracy: 0.5846"
          ]
        },
        {
          "name": "stderr",
          "output_type": "stream",
          "text": [
            "/usr/local/lib/python3.10/dist-packages/keras/src/engine/training.py:3079: UserWarning: You are saving your model as an HDF5 file via `model.save()`. This file format is considered legacy. We recommend using instead the native Keras format, e.g. `model.save('my_model.keras')`.\n",
            "  saving_api.save_model(\n"
          ]
        },
        {
          "name": "stdout",
          "output_type": "stream",
          "text": [
            "3124/3125 [============================>.] - ETA: 0s - loss: 1.1506 - accuracy: 0.5937\n",
            "Epoch 2: val_accuracy improved from 0.60860 to 0.66480, saving model to best_model_epoch.hdf5\n",
            "3125/3125 [==============================] - 21s 7ms/step - loss: 1.1505 - accuracy: 0.5937 - val_loss: 0.9595 - val_accuracy: 0.6648\n",
            "Epoch 3/13\n",
            "3122/3125 [============================>.] - ETA: 0s - loss: 1.0515 - accuracy: 0.6315\n",
            "Epoch 3: val_accuracy improved from 0.66480 to 0.68620, saving model to best_model_epoch.hdf5\n",
            "3125/3125 [==============================] - 22s 7ms/step - loss: 1.0513 - accuracy: 0.6316 - val_loss: 0.8983 - val_accuracy: 0.6862\n",
            "Epoch 4/13\n",
            "3124/3125 [============================>.] - ETA: 0s - loss: 0.9921 - accuracy: 0.6534\n",
            "Epoch 4: val_accuracy improved from 0.68620 to 0.72040, saving model to best_model_epoch.hdf5\n",
            "3125/3125 [==============================] - 21s 7ms/step - loss: 0.9920 - accuracy: 0.6534 - val_loss: 0.8157 - val_accuracy: 0.7204\n",
            "Epoch 5/13\n",
            "3120/3125 [============================>.] - ETA: 0s - loss: 0.9472 - accuracy: 0.6702\n",
            "Epoch 5: val_accuracy did not improve from 0.72040\n",
            "3125/3125 [==============================] - 21s 7ms/step - loss: 0.9475 - accuracy: 0.6700 - val_loss: 0.8060 - val_accuracy: 0.7196\n",
            "Epoch 6/13\n",
            "3121/3125 [============================>.] - ETA: 0s - loss: 0.9118 - accuracy: 0.6809\n",
            "Epoch 6: val_accuracy improved from 0.72040 to 0.74240, saving model to best_model_epoch.hdf5\n",
            "3125/3125 [==============================] - 21s 7ms/step - loss: 0.9116 - accuracy: 0.6809 - val_loss: 0.7494 - val_accuracy: 0.7424\n",
            "Epoch 7/13\n",
            "3123/3125 [============================>.] - ETA: 0s - loss: 0.8863 - accuracy: 0.6927\n",
            "Epoch 7: val_accuracy did not improve from 0.74240\n",
            "3125/3125 [==============================] - 21s 7ms/step - loss: 0.8862 - accuracy: 0.6926 - val_loss: 0.7513 - val_accuracy: 0.7399\n",
            "Epoch 8/13\n",
            "3121/3125 [============================>.] - ETA: 0s - loss: 0.8624 - accuracy: 0.6997\n",
            "Epoch 8: val_accuracy improved from 0.74240 to 0.74460, saving model to best_model_epoch.hdf5\n",
            "3125/3125 [==============================] - 21s 7ms/step - loss: 0.8625 - accuracy: 0.6997 - val_loss: 0.7349 - val_accuracy: 0.7446\n",
            "Epoch 9/13\n",
            "3118/3125 [============================>.] - ETA: 0s - loss: 0.8481 - accuracy: 0.7032\n",
            "Epoch 9: val_accuracy improved from 0.74460 to 0.74760, saving model to best_model_epoch.hdf5\n",
            "3125/3125 [==============================] - 23s 7ms/step - loss: 0.8480 - accuracy: 0.7033 - val_loss: 0.7291 - val_accuracy: 0.7476\n",
            "Epoch 10/13\n",
            "3118/3125 [============================>.] - ETA: 0s - loss: 0.8299 - accuracy: 0.7122\n",
            "Epoch 10: val_accuracy improved from 0.74760 to 0.76120, saving model to best_model_epoch.hdf5\n",
            "3125/3125 [==============================] - 21s 7ms/step - loss: 0.8298 - accuracy: 0.7123 - val_loss: 0.6977 - val_accuracy: 0.7612\n",
            "Epoch 11/13\n",
            "3116/3125 [============================>.] - ETA: 0s - loss: 0.8170 - accuracy: 0.7186\n",
            "Epoch 11: val_accuracy did not improve from 0.76120\n",
            "3125/3125 [==============================] - 20s 6ms/step - loss: 0.8166 - accuracy: 0.7188 - val_loss: 0.7121 - val_accuracy: 0.7550\n",
            "Epoch 12/13\n",
            "3122/3125 [============================>.] - ETA: 0s - loss: 0.8072 - accuracy: 0.7193\n",
            "Epoch 12: val_accuracy did not improve from 0.76120\n",
            "3125/3125 [==============================] - 21s 7ms/step - loss: 0.8073 - accuracy: 0.7192 - val_loss: 0.6977 - val_accuracy: 0.7595\n",
            "Epoch 13/13\n",
            "3125/3125 [==============================] - ETA: 0s - loss: 0.7893 - accuracy: 0.7238\n",
            "Epoch 13: val_accuracy improved from 0.76120 to 0.76240, saving model to best_model_epoch.hdf5\n",
            "3125/3125 [==============================] - 21s 7ms/step - loss: 0.7893 - accuracy: 0.7238 - val_loss: 0.6972 - val_accuracy: 0.7624\n"
          ]
        },
        {
          "data": {
            "text/plain": [
              "<keras.src.callbacks.History at 0x785572812c80>"
            ]
          },
          "execution_count": 117,
          "metadata": {},
          "output_type": "execute_result"
        }
      ],
      "source": [
        "from tensorflow.keras.callbacks import ModelCheckpoint\n",
        "\n",
        "checkpoint = ModelCheckpoint(\"best_model_epoch.hdf5\", monitor='val_accuracy', verbose=1, save_best_only=True, mode='max')\n",
        "callbacks_list = [checkpoint]\n",
        "\n",
        "model_cnn.fit(x_train, y_train,batch_size=16, epochs=13, validation_data=(x_test, y_test),callbacks=callbacks_list)\n"
      ]
    },
    {
      "cell_type": "code",
      "execution_count": 65,
      "metadata": {
        "id": "LC-B4_ZsFUt0"
      },
      "outputs": [],
      "source": [
        "# save model if you want\n",
        "model.save('model.keras')"
      ]
    },
    {
      "cell_type": "code",
      "execution_count": 73,
      "metadata": {
        "colab": {
          "base_uri": "https://localhost:8080/",
          "height": 256
        },
        "id": "eFCEl09j4LN1",
        "outputId": "82da4840-9def-42a2-fcbd-938c70e08c1e"
      },
      "outputs": [
        {
          "name": "stdout",
          "output_type": "stream",
          "text": [
            "1/1 [==============================] - 0s 19ms/step\n"
          ]
        },
        {
          "data": {
            "image/png": "[encoded data removed]",
            "text/plain": [
              "<Figure size 2000x2000 with 5 Axes>"
            ]
          },
          "metadata": {},
          "output_type": "display_data"
        }
      ],
      "source": [
        "import matplotlib.pyplot as plt\n",
        "import random\n",
        "\n",
        "images = x_test[random.sample(range(0, len(x_test)), 5)]\n",
        "# predict the class of each image\n",
        "predictions = model_cnn.predict(images)\n",
        "classes = [\"airplane\",\"automobile\",\"bird\",\"cat\",\"deer\",\"dog\",\"frog\",\"horse\",\"ship\",\"truck\"]\n",
        "# show the images\n",
        "fig = plt.figure(figsize=(20, 20))\n",
        "for i in range(len(images)):\n",
        "    fig.add_subplot(1, 5, (i+1)*1)\n",
        "    plt.imshow(images[i])\n",
        "    plt.axis('off')\n",
        "    best = max(predictions[i])\n",
        "    class_name = classes[list(predictions[i]).index(best)]\n",
        "    plt.title(class_name+ \" \"+ str(best))"
      ]
    }
  ],
  "metadata": {
    "accelerator": "GPU",
    "colab": {
      "gpuType": "T4",
      "provenance": []
    },
    "kernelspec": {
      "display_name": "Python 3",
      "name": "python3"
    },
    "language_info": {
      "name": "python",
      "version": "3.10.3"
    }
  },
  "nbformat": 4,
  "nbformat_minor": 0
}
